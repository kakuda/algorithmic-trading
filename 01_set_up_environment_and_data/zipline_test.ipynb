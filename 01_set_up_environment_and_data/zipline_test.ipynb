{
 "cells": [
  {
   "cell_type": "code",
   "execution_count": 1,
   "id": "e8cb3e3f",
   "metadata": {},
   "outputs": [],
   "source": [
    "import os\n",
    "os.environ['QUANDL_API_KEY'] = 'FidBeyZ2YDWs9GykLZ83'"
   ]
  },
  {
   "cell_type": "code",
   "execution_count": 2,
   "id": "8d150de7",
   "metadata": {},
   "outputs": [
    {
     "name": "stdout",
     "output_type": "stream",
     "text": [
      "[2023-03-01 05:14:48.427712] INFO: zipline.data.bundles.core: Ingesting quandl.\n",
      "[2023-03-01 05:14:48.427787] INFO: zipline.data.bundles.quandl: Downloading WIKI metadata.\n",
      "\u001b[?25lDownloading WIKI Prices table from Quandl  [####################################]  100%          \u001b[?25h\n",
      "[2023-03-01 05:19:13.025315] INFO: zipline.data.bundles.quandl: Parsing raw data.\n",
      "[2023-03-01 05:19:25.534751] INFO: zipline.data.bundles.quandl: Generating asset metadata.\n",
      "Traceback (most recent call last):\n",
      "  File \"/Users/kakuda/.pyenv/versions/miniforge3-4.10.1-5/envs/liveproject/bin/zipline\", line 8, in <module>\n",
      "    sys.exit(main())\n",
      "  File \"/Users/kakuda/.pyenv/versions/miniforge3-4.10.1-5/envs/liveproject/lib/python3.8/site-packages/click/core.py\", line 1130, in __call__\n",
      "    return self.main(*args, **kwargs)\n",
      "  File \"/Users/kakuda/.pyenv/versions/miniforge3-4.10.1-5/envs/liveproject/lib/python3.8/site-packages/click/core.py\", line 1055, in main\n",
      "    rv = self.invoke(ctx)\n",
      "  File \"/Users/kakuda/.pyenv/versions/miniforge3-4.10.1-5/envs/liveproject/lib/python3.8/site-packages/click/core.py\", line 1657, in invoke\n",
      "    return _process_result(sub_ctx.command.invoke(sub_ctx))\n",
      "  File \"/Users/kakuda/.pyenv/versions/miniforge3-4.10.1-5/envs/liveproject/lib/python3.8/site-packages/click/core.py\", line 1404, in invoke\n",
      "    return ctx.invoke(self.callback, **ctx.params)\n",
      "  File \"/Users/kakuda/.pyenv/versions/miniforge3-4.10.1-5/envs/liveproject/lib/python3.8/site-packages/click/core.py\", line 760, in invoke\n",
      "    return __callback(*args, **kwargs)\n",
      "  File \"/Users/kakuda/.pyenv/versions/miniforge3-4.10.1-5/envs/liveproject/lib/python3.8/site-packages/zipline/__main__.py\", line 389, in ingest\n",
      "    bundles_module.ingest(\n",
      "  File \"/Users/kakuda/.pyenv/versions/miniforge3-4.10.1-5/envs/liveproject/lib/python3.8/site-packages/zipline/data/bundles/core.py\", line 445, in ingest\n",
      "    bundle.ingest(\n",
      "  File \"/Users/kakuda/.pyenv/versions/miniforge3-4.10.1-5/envs/liveproject/lib/python3.8/site-packages/zipline/data/bundles/quandl.py\", line 193, in quandl_bundle\n",
      "    asset_db_writer.write(equities=asset_metadata, exchanges=exchanges)\n",
      "  File \"/Users/kakuda/.pyenv/versions/miniforge3-4.10.1-5/envs/liveproject/lib/python3.8/site-packages/zipline/assets/asset_writer.py\", line 811, in write\n",
      "    self._real_write(\n",
      "  File \"/Users/kakuda/.pyenv/versions/miniforge3-4.10.1-5/envs/liveproject/lib/python3.8/site-packages/zipline/assets/asset_writer.py\", line 487, in _real_write\n",
      "    self.init_db(conn)\n",
      "  File \"/Users/kakuda/.pyenv/versions/miniforge3-4.10.1-5/envs/liveproject/lib/python3.8/site-packages/zipline/assets/asset_writer.py\", line 912, in init_db\n",
      "    tables_already_exist = self._all_tables_present(txn)\n",
      "  File \"/Users/kakuda/.pyenv/versions/miniforge3-4.10.1-5/envs/liveproject/lib/python3.8/site-packages/zipline/assets/asset_writer.py\", line 888, in _all_tables_present\n",
      "    conn = txn.connect()\n",
      "AttributeError: 'Connection' object has no attribute 'connect'\n"
     ]
    }
   ],
   "source": [
    "!zipline ingest"
   ]
  },
  {
   "cell_type": "code",
   "execution_count": null,
   "id": "58152b29",
   "metadata": {},
   "outputs": [],
   "source": []
  }
 ],
 "metadata": {
  "kernelspec": {
   "display_name": "Python 3 (ipykernel)",
   "language": "python",
   "name": "python3"
  },
  "language_info": {
   "codemirror_mode": {
    "name": "ipython",
    "version": 3
   },
   "file_extension": ".py",
   "mimetype": "text/x-python",
   "name": "python",
   "nbconvert_exporter": "python",
   "pygments_lexer": "ipython3",
   "version": "3.8.12"
  }
 },
 "nbformat": 4,
 "nbformat_minor": 5
}
